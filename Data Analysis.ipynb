{
 "cells": [
  {
   "cell_type": "code",
   "execution_count": null,
   "metadata": {},
   "outputs": [],
   "source": [
    "import pandas as pd\n",
    "import matplotlib.pyplot as plt\n",
    "import seaborn as sns\n",
    "import numpy as np"
   ]
  },
  {
   "cell_type": "code",
   "execution_count": null,
   "metadata": {
    "scrolled": true
   },
   "outputs": [],
   "source": [
    "with open('./MD_64p_T100_tao10.txt', 'r') as fout:\n",
    "    value = fout.read()\n",
    "a = pd.DataFrame([i.split(',') for i in value.split('\\n')][:-1], columns=['t','K','P','Tot'])\n",
    "\n",
    "a.t = a.t.astype('int')\n",
    "a.K = a.K.astype('float')\n",
    "a.P = a.P.astype('float')\n",
    "a.Tot = a.Tot.astype('float')\n",
    "plt.plot(a.t,a.K, c='r',label='Kinetic Energy')\n",
    "plt.plot(a.t,a.P, c='b',label='Potential Energy')\n",
    "plt.plot(a.t,a.Tot, c='g', label='Total Energy')\n",
    "plt.legend()\n",
    "plt.grid()\n",
    "plt.xlabel('Time step')\n",
    "plt.ylabel('Energy')\n",
    "plt.title('Energia en función del paso temporal $tao = 20$')\n",
    "\n",
    "Kb=1.3806E-23/1.66E-23\n",
    "N=64\n",
    "E_ideal= 3/2*Kb*N*60*np.ones(len(a.P))\n",
    "plt.plot(a.t, E_ideal)"
   ]
  },
  {
   "cell_type": "code",
   "execution_count": null,
   "metadata": {},
   "outputs": [],
   "source": [
    "val = 500\n",
    "means = [a.K[val:].mean(),a.P[val:].mean(),a.Tot[val:].mean(),a.K[val:].mean()*2/(N*Kb*3)]\n",
    "\n",
    "plt.plot(a.t[val:],a.K[val:], c='r',label='Kinetic Energy')\n",
    "plt.plot(a.t[val:],a.P[val:], c='b',label='Potential Energy')\n",
    "plt.plot(a.t[val:],a.Tot[val:], c='g', label='Total Energy')\n",
    "plt.grid()\n",
    "means"
   ]
  },
  {
   "cell_type": "code",
   "execution_count": null,
   "metadata": {},
   "outputs": [],
   "source": [
    "with open('./pos.txt', 'r') as fout:\n",
    "    value2 = fout.read()\n",
    "b = pd.DataFrame([i.split(',') for i in value2.split('\\n')][1:-1], columns=['t','Rx1','Ry1','Rz1'])\n",
    "\n",
    "b.t = b.t.astype('int')\n",
    "b.Rx1 = b.Rx1.astype('float')\n",
    "b.Ry1 = b.Ry1.astype('float')\n",
    "b.Rz1 = b.Rz1.astype('float')\n",
    "\n",
    "from mpl_toolkits.mplot3d import Axes3D\n",
    "fig = plt.figure()\n",
    "ax = fig.add_subplot(111, projection='3d')\n",
    "ax.scatter(b['Rx1'], b['Ry1'], b['Rz1'], c=b['t'], s=3)\n",
    "ax.view_init(30, 185)\n",
    "plt.show()"
   ]
  },
  {
   "cell_type": "code",
   "execution_count": null,
   "metadata": {},
   "outputs": [],
   "source": [
    "means50 = [4086.200308032424,\n",
    "           -30094.201701231712,\n",
    "           -26008.001354879463,\n",
    "           51.178627886228696]\n",
    "\n",
    "means55 = [4488.023309295715,\n",
    "           -29871.105219496792,\n",
    "           -25383.08188756711,\n",
    "           56.211359594793386]\n",
    "\n",
    "means60 = [4905.46631266449,\n",
    "           -29787.23440888515,\n",
    "           -24881.76813875145,\n",
    "           61.439727888712746]\n",
    "\n",
    "means65 = [5290.147281090291, \n",
    "           -29325.58602427598, \n",
    "           -24035.438743611583, \n",
    "           66.2577599610215]\n",
    "\n",
    "means70 = [5706.915444573113,\n",
    "           -29197.014714180437,\n",
    "           -23490.09915991157,\n",
    "           71.4776760556353]\n",
    "\n",
    "means75 = [6095.452011685441,\n",
    "           -28913.594430992736,\n",
    "           -22818.142486577533,\n",
    "           76.34399852870305]\n",
    "\n",
    "means80 =[6515.161027476576,\n",
    "          -28692.212961364356,\n",
    "          -22177.051889672603,\n",
    "          81.60074805648448]\n",
    "\n",
    "means85 = [6898.576671228551,\n",
    "           -28347.16124749974,\n",
    "           -21448.58452152858,\n",
    "           86.40293225650228]\n",
    "means90 = [7326.9374862617115,\n",
    "           -27896.628187177594,\n",
    "           -20569.690667438674,\n",
    "           91.76804338689128]\n",
    "\n",
    "means95 = [7720.577038951468,\n",
    "           -27973.89566375408,\n",
    "           -20253.318595641646,\n",
    "           96.69827946680367]\n",
    "\n",
    "means100 = [8107.277292451838,\n",
    "            -28029.70130224234,\n",
    "            -19922.42404253079,\n",
    "            101.54160257519415]\n",
    "\n",
    "vector = [means50, means55, means60, means65, means70, means75, means80,means85, means90,means95,means100]\n",
    "temp = [i[3] for i in vector]\n",
    "energy = [i[2] for i in vector]"
   ]
  },
  {
   "cell_type": "code",
   "execution_count": null,
   "metadata": {},
   "outputs": [],
   "source": [
    "#plt.plot(temp,np.gradient(energy))\n",
    "plt.plot(temp,energy)\n",
    "plt.title('Ar Energia promedio en funcion de la temperatura')"
   ]
  },
  {
   "cell_type": "code",
   "execution_count": null,
   "metadata": {},
   "outputs": [],
   "source": [
    "grad = []\n",
    "temp2 = []\n",
    "for i in range(len(energy)):\n",
    "    try:\n",
    "        grad.append(energy[i+1]-energy[i])\n",
    "        temp2.append((temp[i+1]+temp[i])/2)\n",
    "    except:\n",
    "        break\n",
    "plt.plot(temp,np.gradient(energy))"
   ]
  },
  {
   "cell_type": "code",
   "execution_count": null,
   "metadata": {},
   "outputs": [],
   "source": []
  }
 ],
 "metadata": {
  "kernelspec": {
   "display_name": "Python 3",
   "language": "python",
   "name": "python3"
  },
  "language_info": {
   "codemirror_mode": {
    "name": "ipython",
    "version": 3
   },
   "file_extension": ".py",
   "mimetype": "text/x-python",
   "name": "python",
   "nbconvert_exporter": "python",
   "pygments_lexer": "ipython3",
   "version": "3.7.1"
  }
 },
 "nbformat": 4,
 "nbformat_minor": 2
}
